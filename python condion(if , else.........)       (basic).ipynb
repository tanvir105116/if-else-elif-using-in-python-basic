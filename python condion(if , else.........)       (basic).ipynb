{
 "cells": [
  {
   "cell_type": "markdown",
   "id": "c707c1bb",
   "metadata": {},
   "source": [
    "# if else elif problem solving"
   ]
  },
  {
   "cell_type": "code",
   "execution_count": 1,
   "id": "fbc1e4c8",
   "metadata": {},
   "outputs": [],
   "source": [
    "#in if else elif the condition or rules are place after the if or else or elif then we have to give a cemicolon."
   ]
  },
  {
   "cell_type": "code",
   "execution_count": 14,
   "id": "58f71f6e",
   "metadata": {},
   "outputs": [
    {
     "name": "stdout",
     "output_type": "stream",
     "text": [
      "enter your first number10\n",
      "enter your 2nd number09\n",
      "enter your 3rd number02\n",
      "the highest value is 10\n"
     ]
    }
   ],
   "source": [
    "a=input('enter your first number')\n",
    "b=input('enter your 2nd number')\n",
    "c=input('enter your 3rd number')\n",
    "if a>b and a>c:\n",
    "    print('the highest value is',a)\n",
    "elif b>a and b>c:\n",
    "    print('the highest value is',b)\n",
    "else:\n",
    "    print('the highest value is',c)       #highest value check by condition\n",
    "    \n"
   ]
  },
  {
   "cell_type": "code",
   "execution_count": 17,
   "id": "6795d2da",
   "metadata": {},
   "outputs": [
    {
     "name": "stdout",
     "output_type": "stream",
     "text": [
      "enter the students number : 78\n",
      "b\n"
     ]
    }
   ],
   "source": [
    "a=float(input('enter the students number : '))\n",
    "if a<25:\n",
    "    print('F')\n",
    "elif 25<=a<=44:\n",
    "    print('e')\n",
    "elif 45<=a<=49:\n",
    "    print('d')\n",
    "elif 50<=a<=59:\n",
    "    print('c')\n",
    "elif 60<=a<=79:\n",
    "    print('b') \n",
    "elif 80<=a<=89:\n",
    "    print('a')\n",
    "else:\n",
    "    print('a+')    #grade checking by condition function"
   ]
  }
 ],
 "metadata": {
  "kernelspec": {
   "display_name": "Python 3 (ipykernel)",
   "language": "python",
   "name": "python3"
  },
  "language_info": {
   "codemirror_mode": {
    "name": "ipython",
    "version": 3
   },
   "file_extension": ".py",
   "mimetype": "text/x-python",
   "name": "python",
   "nbconvert_exporter": "python",
   "pygments_lexer": "ipython3",
   "version": "3.11.5"
  }
 },
 "nbformat": 4,
 "nbformat_minor": 5
}
